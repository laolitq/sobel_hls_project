{
 "cells": [
  {
   "cell_type": "code",
   "execution_count": null,
   "metadata": {},
   "outputs": [],
   "source": [
    "import pynq.lib.dma\n",
    "import numpy as np\n",
    "\n",
    "mmol = pynq.Overlay(\"./mul.bit\")\n",
    "\n",
    "dma0 = mmol.axi_dma_0\n",
    "dma1 = mmol.axi_dma_1\n",
    "\n",
    "\n",
    "from pynq import Xlnk\n",
    "xlnk = Xlnk()\n",
    "a = xlnk.cma_array(shape=(32,32), dtype=np.int)\n",
    "b = xlnk.cma_array(shape=(32,32), dtype=np.int)\n",
    "res = xlnk.cma_array(shape=(32,32), dtype=np.int)\n",
    "\n",
    "for i in range(32):\n",
    "    for j in range(32):\n",
    "        a[i][j] = 8;\n",
    "        b[i][j] = 8;\n",
    "               \n",
    "dma0.sendchannel.transfer(a)\n",
    "dma1.sendchannel.transfer(b)\n",
    "dma0.recvchannel.transfer(res)\n",
    "print(res)"
   ]
  },
  {
   "cell_type": "code",
   "execution_count": null,
   "metadata": {},
   "outputs": [],
   "source": []
  }
 ],
 "metadata": {
  "kernelspec": {
   "display_name": "Python 3",
   "language": "python",
   "name": "python3"
  },
  "language_info": {
   "codemirror_mode": {
    "name": "ipython",
    "version": 3
   },
   "file_extension": ".py",
   "mimetype": "text/x-python",
   "name": "python",
   "nbconvert_exporter": "python",
   "pygments_lexer": "ipython3",
   "version": "3.8.2"
  }
 },
 "nbformat": 4,
 "nbformat_minor": 4
}
